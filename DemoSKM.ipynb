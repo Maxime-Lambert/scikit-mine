{
 "cells": [
  {
   "cell_type": "markdown",
   "metadata": {},
   "source": [
    "<img src=\"Univ.png\" width=120 align=\"right\"> <img src=\"Istic.png\" width=120 align=\"left\"> \n",
    "\n",
    "# <center>Démonstration du projet SKM</center>\n",
    "\n",
    "\n",
    "<center> Etudiants : <strong>Piéric Giraud</strong>, <strong>Daniil Kochergin</strong>, Maxime Lambert, Yvan Le Duff, Melvin Piscot, Myriam Pavy, Josie Signe </center> <br>\n",
    "<center>Encadrants : Peggy Cellier, Alexandre Termier, Laurent Guillo </center> <br>\n",
    "<center>Master 1 Informatique - Université de Rennes 1<br> <br>\n",
    "Mardi 7 mai 2019 <br>\n",
    "</center>\n",
    "\n",
    "\n",
    "\n"
   ]
  },
  {
   "cell_type": "markdown",
   "metadata": {},
   "source": [
    "# Contexte du Projet"
   ]
  },
  {
   "cell_type": "markdown",
   "metadata": {},
   "source": [
    "<img src=\"Scikit.png\" width=160 align=\"right\">\n",
    "\n",
    "* Implémentation d'algorithmes de pattern mining, SLIM, DiffNorm, SQS,à partir d'articles de recherche.\n",
    "\n",
    "* Conformation du code par rapport à la bibliothèque Scikit-learn\n",
    "\n",
    "* Respect des normes de codage PEP8"
   ]
  },
  {
   "cell_type": "code",
   "execution_count": 45,
   "metadata": {},
   "outputs": [],
   "source": [
    "import time\n",
    "import os\n",
    "from src.Files import Files"
   ]
  },
  {
   "cell_type": "markdown",
   "metadata": {},
   "source": [
    "# Démonstration de SLIM"
   ]
  },
  {
   "cell_type": "markdown",
   "metadata": {},
   "source": [
    "### SLIM \n"
   ]
  },
  {
   "cell_type": "markdown",
   "metadata": {},
   "source": [
    "<center><img src=\"slim.png\" alt=\"Slim scheme\"></center>"
   ]
  },
  {
   "cell_type": "code",
   "execution_count": 46,
   "metadata": {},
   "outputs": [],
   "source": [
    "from src.SLIM.slimalgo import slim"
   ]
  },
  {
   "cell_type": "markdown",
   "metadata": {},
   "source": [
    "### Jeu de données : Consommateurs "
   ]
  },
  {
   "cell_type": "code",
   "execution_count": 47,
   "metadata": {},
   "outputs": [
    {
     "name": "stdout",
     "output_type": "stream",
     "text": [
      "bière crackers\n",
      "\n",
      "beurre saucisson fromage\n",
      "\n",
      "eau sirop limonade chips\n",
      "\n",
      "chaussette couches vin\n",
      "\n",
      "vin\n",
      "\n",
      "pain\n",
      "\n",
      "limonade sirop saucisson\n",
      "\n",
      "eau sirop limonade chips\n",
      "\n",
      "eau sirop\n",
      "\n",
      "limonade sirop saucisson\n"
     ]
    }
   ],
   "source": [
    "tickets = open(\"tickets.txt\", \"r\", encoding=\"utf-8\").readlines()\n",
    "for ticket in tickets[-10:]:\n",
    "    print(ticket)"
   ]
  },
  {
   "cell_type": "markdown",
   "metadata": {},
   "source": [
    "### Lancement de l'algorithme"
   ]
  },
  {
   "cell_type": "code",
   "execution_count": 48,
   "metadata": {},
   "outputs": [
    {
     "name": "stdout",
     "output_type": "stream",
     "text": [
      "Encoded length of model and database : 724.7708686656963 bits \n",
      "\n",
      "Result found in 0.3079216480255127 seconds.\n"
     ]
    }
   ],
   "source": [
    "# en entree : file.txt\n",
    "# en sortie : file.txt.res\n",
    "\n",
    "# Lancement de SLIM avec le fichier tickets.txt dans le répertoire courant\n",
    "x = time.time()\n",
    "code_table = slim(\"tickets\", 1000)\n",
    "print(\"Result found in \"+str(time.time() - x)+\" seconds.\")"
   ]
  },
  {
   "cell_type": "markdown",
   "metadata": {},
   "source": [
    "### Analyse des résultats"
   ]
  },
  {
   "cell_type": "code",
   "execution_count": 49,
   "metadata": {},
   "outputs": [
    {
     "name": "stdout",
     "output_type": "stream",
     "text": [
      "chips eau limonade sirop (14,14)\n",
      "\n",
      "limonade saucisson sirop (22,22)\n",
      "\n",
      "beurre fromage saucisson (10,10)\n",
      "\n",
      "chaussette couches vin (4,4)\n",
      "\n",
      "nutella pain (52,52)\n",
      "\n",
      "fromage pain (42,42)\n",
      "\n",
      "eau sirop (14,28)\n",
      "\n",
      "bière crackers (16,16)\n",
      "\n",
      "pain (18,112)\n",
      "\n",
      "nutella (0,52)\n",
      "\n",
      "fromage (0,52)\n",
      "\n",
      "sirop (0,50)\n",
      "\n",
      "limonade (0,36)\n",
      "\n",
      "saucisson (0,32)\n",
      "\n",
      "eau (0,28)\n",
      "\n",
      "bière (0,16)\n",
      "\n",
      "crackers (0,16)\n",
      "\n",
      "chips (0,14)\n",
      "\n",
      "vin (8,12)\n",
      "\n",
      "beurre (0,10)\n",
      "\n",
      "chaussette (0,4)\n",
      "\n",
      "couches (0,4)\n"
     ]
    }
   ],
   "source": [
    "tickets = open(\"res_tickets.txt\", \"r\", encoding=\"utf-8\").readlines()\n",
    "for ticket in tickets:\n",
    "    print(ticket)"
   ]
  },
  {
   "cell_type": "markdown",
   "metadata": {},
   "source": [
    "### Jeu de données : Iris "
   ]
  },
  {
   "cell_type": "code",
   "execution_count": 50,
   "metadata": {},
   "outputs": [
    {
     "name": "stdout",
     "output_type": "stream",
     "text": [
      "0 3 6 7 8\n",
      "\n",
      "0 2 5 10 13\n",
      "\n",
      "1 4 9 13 14\n",
      "\n",
      "0 3 6 7 8\n",
      "\n",
      "2 5 10 11 12\n",
      "\n",
      "1 4 9 14 15\n",
      "\n",
      "0 3 6 7 8\n",
      "\n",
      "2 5 10 15 17\n",
      "\n",
      "1 4 9 13 14\n",
      "\n",
      "0 1 4 9 13\n",
      "\n"
     ]
    }
   ],
   "source": [
    "tickets = open(\"iris.txt\", \"r\").readlines()\n",
    "for ticket in tickets[-10:]:\n",
    "    print(ticket)"
   ]
  },
  {
   "cell_type": "markdown",
   "metadata": {},
   "source": [
    "### Lancement de l'algorithme"
   ]
  },
  {
   "cell_type": "code",
   "execution_count": 51,
   "metadata": {},
   "outputs": [
    {
     "name": "stdout",
     "output_type": "stream",
     "text": [
      "Encoded length of model and database : 1487.392746471831 bits \n",
      "\n",
      "Result found in 1.499605655670166 seconds. \n",
      "\n"
     ]
    }
   ],
   "source": [
    "x = time.time()\n",
    "code_table = slim(\"iris\", 1000)\n",
    "print(\"Result found in \"+str(time.time() - x)+\" seconds. \\n\")"
   ]
  },
  {
   "cell_type": "markdown",
   "metadata": {},
   "source": [
    "### Analyse des résultats"
   ]
  },
  {
   "cell_type": "code",
   "execution_count": 52,
   "metadata": {},
   "outputs": [
    {
     "name": "stdout",
     "output_type": "stream",
     "text": [
      "Patterns that are the same:\n",
      "\n",
      "0 3 6 7 8 (37,37)\n",
      "\n",
      "2 5 10 11 (26,26)\n",
      "\n",
      "1 4 9 15 (16,16)\n",
      "\n",
      "1 4 9 13 (21,21)\n",
      "\n",
      "0 6 7 8 11 (5,5)\n",
      "\n",
      "3 6 7 8 (8,45)\n",
      "\n",
      "2 5 10 (18,44)\n",
      "\n",
      "1 4 9 11 (8,8)\n",
      "\n",
      "1 2 5 (4,4)\n",
      "\n",
      "1 2 4 (4,4)\n",
      "\n",
      "1 5 9 (2,2)\n",
      "\n",
      "14 (26,26)\n",
      "\n",
      "16 (14,14)\n",
      "\n",
      "12 (33,33)\n",
      "\n",
      "17 (10,10)\n",
      "\n",
      "15 (9,25)\n",
      "\n",
      "13 (7,28)\n",
      "\n",
      "0 (25,67)\n",
      "\n",
      "11 (4,43)\n",
      "\n",
      "10 (0,45)\n",
      "\n",
      "3 (6,52)\n",
      "\n",
      "1 (0,55)\n",
      "\n",
      "2 (0,52)\n",
      "\n",
      "8 (0,50)\n",
      "\n",
      "7 (0,50)\n",
      "\n",
      "6 (0,50)\n",
      "\n",
      "5 (0,50)\n",
      "\n",
      "4 (0,50)\n",
      "\n",
      "9 (0,48)\n",
      "\n",
      "18 (2,2)\n"
     ]
    }
   ],
   "source": [
    "file1 = open('res_iris.txt', 'r').readlines()\n",
    "file2 = open('iris_chercheur.ct', 'r').readlines()\n",
    "file1.sort(key=lambda x: (len(x), x[-6:-1], str(x)), reverse = True)\n",
    "file2.sort(key=lambda x: (len(x), x[-6:-1], str(x)), reverse = True)\n",
    "same = []\n",
    "diff = []\n",
    "for l1, l2 in zip(file1, file2):\n",
    "    if set(l1.split(' ')[:-1]) == set(l2.split(' ')[:-1]):\n",
    "        same.append(l1)\n",
    "    else:\n",
    "        if l1 in diff:\n",
    "            diff.remove(l1)\n",
    "        elif l2 in diff:\n",
    "            diff.remove(l2)\n",
    "        else:\n",
    "            diff.append(l1)\n",
    "            diff.append(l2)\n",
    "\n",
    "print(\"Patterns that are the same:\\n\")\n",
    "for line in same:\n",
    "    print(line)"
   ]
  },
  {
   "cell_type": "code",
   "execution_count": 53,
   "metadata": {},
   "outputs": [
    {
     "name": "stdout",
     "output_type": "stream",
     "text": [
      "What is different?\n",
      "\n",
      "3 4 9 10 (1,1)\n",
      "\n",
      "4 9 10 (1,1)\n",
      "\n"
     ]
    }
   ],
   "source": [
    "print(\"What is different?\\n\")\n",
    "nothing = True\n",
    "for line in diff:\n",
    "    print(line)\n",
    "    nothing = False\n",
    "if nothing:\n",
    "    print(\"Nothing\")"
   ]
  },
  {
   "cell_type": "markdown",
   "metadata": {},
   "source": [
    "# Démonstration DiffNorm"
   ]
  },
  {
   "cell_type": "markdown",
   "metadata": {},
   "source": [
    "### DiffNorm \n"
   ]
  },
  {
   "cell_type": "markdown",
   "metadata": {},
   "source": [
    "<img src=\"diffnorm.png\" alt=\"DiffNorm scheme\">"
   ]
  },
  {
   "cell_type": "code",
   "execution_count": 54,
   "metadata": {},
   "outputs": [],
   "source": [
    "from src.DiffNorm.DiffNorm1 import DiffNorm1"
   ]
  },
  {
   "cell_type": "markdown",
   "metadata": {},
   "source": [
    "### Jeu de données : Pays"
   ]
  },
  {
   "cell_type": "code",
   "execution_count": 55,
   "metadata": {},
   "outputs": [
    {
     "name": "stdout",
     "output_type": "stream",
     "text": [
      "1 6 7 8\n",
      "\n",
      "1 6 7\n",
      "\n",
      "1 6 7\n",
      "\n",
      "7 8\n",
      "\n",
      "5 9 4\n",
      "\n",
      "1 6 7 8\n",
      "\n",
      "1 6 7 2\n",
      "\n",
      "1 6 7\n",
      "\n",
      "6 7\n",
      "\n",
      "5 2 1\n",
      "\n"
     ]
    }
   ],
   "source": [
    "tickets = open(\"Europe\", \"r\").readlines()\n",
    "for ticket in tickets[10:20]:\n",
    "    print(ticket)"
   ]
  },
  {
   "cell_type": "code",
   "execution_count": 56,
   "metadata": {},
   "outputs": [
    {
     "name": "stdout",
     "output_type": "stream",
     "text": [
      "8 5 6 7\n",
      "\n",
      "5 6 7\n",
      "\n",
      "5 6 7\n",
      "\n",
      "6 7\n",
      "\n",
      "6 9\n",
      "\n",
      "5 6 7\n",
      "\n",
      "5 6 7\n",
      "\n",
      "6 7\n",
      "\n",
      "6\n",
      "\n",
      "1 5 6 7\n",
      "\n"
     ]
    }
   ],
   "source": [
    "tickets = open(\"Amerique\", \"r\").readlines()\n",
    "for ticket in tickets[10:20]:\n",
    "    print(ticket)"
   ]
  },
  {
   "cell_type": "markdown",
   "metadata": {},
   "source": [
    "### Lancement de l'algorithme"
   ]
  },
  {
   "cell_type": "code",
   "execution_count": 57,
   "metadata": {},
   "outputs": [
    {
     "name": "stdout",
     "output_type": "stream",
     "text": [
      "Result found in 0.1439664363861084 seconds.\n"
     ]
    }
   ],
   "source": [
    "x = time.time()\n",
    "d = DiffNorm1(\"all_continents\", \"u_continents\")\n",
    "d.run()\n",
    "print(\"Result found in \"+str(time.time() - x)+\" seconds.\")"
   ]
  },
  {
   "cell_type": "markdown",
   "metadata": {},
   "source": [
    "### Analyse des résultats"
   ]
  },
  {
   "cell_type": "code",
   "execution_count": 58,
   "metadata": {},
   "outputs": [
    {
     "name": "stdout",
     "output_type": "stream",
     "text": [
      "<@@@@@@@@ Pattern Sets @@@@@@@@>\n",
      "\n",
      "<@@@@@@@@ S0 @@@@@@@@>\n",
      "\n",
      "{1, 6, 7}\n",
      "\n",
      "\n",
      "\n",
      "<@@@@@@@@ S1 @@@@@@@@>\n",
      "\n",
      "{5, 6, 7}\n",
      "\n",
      "\n",
      "\n",
      "<@@@@@@@@ S2 @@@@@@@@>\n",
      "\n",
      "{2, 4}\n",
      "\n",
      "\n",
      "\n",
      "<@@@@@@@@ S3 @@@@@@@@>\n",
      "\n",
      "{6, 7}\n",
      "\n",
      "\n",
      "\n"
     ]
    }
   ],
   "source": [
    "tickets = open(\"./demo/result_all_continents\", \"r\").readlines()\n",
    "for ticket in tickets[-13:]:\n",
    "    print(ticket)"
   ]
  },
  {
   "cell_type": "markdown",
   "metadata": {},
   "source": [
    "# Démonstration de SQS\n"
   ]
  },
  {
   "cell_type": "markdown",
   "metadata": {},
   "source": [
    "### SQS \n"
   ]
  },
  {
   "cell_type": "markdown",
   "metadata": {},
   "source": [
    "\n",
    "<center><img src=\"SQS.png\" alt=\"SQS scheme\" width=800></center>\n"
   ]
  },
  {
   "cell_type": "code",
   "execution_count": 59,
   "metadata": {},
   "outputs": [],
   "source": [
    "from src.SQS_v2.Database import Database\n",
    "from src.SQS_v2.SQS import SQS"
   ]
  },
  {
   "cell_type": "markdown",
   "metadata": {},
   "source": [
    "### Jeu de données : "
   ]
  },
  {
   "cell_type": "code",
   "execution_count": 60,
   "metadata": {},
   "outputs": [
    {
     "name": "stdout",
     "output_type": "stream",
     "text": [
      " 1 2 3 4 5 6 7 \n",
      "\n",
      " 1 2 3 4 5 6 7 \n",
      "\n",
      " 1 2 3 4 5 6 7 \n",
      "\n",
      " 1 2 3 4 5 6 7\n",
      "\n",
      " 1 2 3 4 5 6 7 \n",
      "\n",
      " 1 2 3 4 5 6 7 \n",
      "\n",
      " 2 4 6 8 \n",
      "\n",
      " 2 4 6 8 \n",
      "\n",
      " 2 4 6 8 \n",
      "\n",
      " 2 4 6 8 \n",
      "\n"
     ]
    }
   ],
   "source": [
    "tickets = open(\"testenter.txt\", \"r\").readlines()\n",
    "for ticket in tickets [:10]:\n",
    "    print(ticket)"
   ]
  },
  {
   "cell_type": "markdown",
   "metadata": {},
   "source": [
    "### Lancement de l'algorithme"
   ]
  },
  {
   "cell_type": "code",
   "execution_count": 61,
   "metadata": {},
   "outputs": [
    {
     "ename": "AttributeError",
     "evalue": "'str' object has no attribute 'make_standard_code_table'",
     "output_type": "error",
     "traceback": [
      "\u001b[1;31m---------------------------------------------------------------------------\u001b[0m",
      "\u001b[1;31mAttributeError\u001b[0m                            Traceback (most recent call last)",
      "\u001b[1;32m<ipython-input-61-91ebdc36d81e>\u001b[0m in \u001b[0;36m<module>\u001b[1;34m()\u001b[0m\n\u001b[0;32m      1\u001b[0m \u001b[1;32mimport\u001b[0m \u001b[0mtime\u001b[0m\u001b[1;33m\u001b[0m\u001b[0m\n\u001b[0;32m      2\u001b[0m \u001b[0mx\u001b[0m \u001b[1;33m=\u001b[0m \u001b[0mtime\u001b[0m\u001b[1;33m.\u001b[0m\u001b[0mtime\u001b[0m\u001b[1;33m(\u001b[0m\u001b[1;33m)\u001b[0m\u001b[1;33m\u001b[0m\u001b[0m\n\u001b[1;32m----> 3\u001b[1;33m \u001b[0msqs\u001b[0m \u001b[1;33m=\u001b[0m \u001b[0mSQS\u001b[0m\u001b[1;33m(\u001b[0m\u001b[1;34m\"fichier2\"\u001b[0m\u001b[1;33m)\u001b[0m\u001b[1;33m\u001b[0m\u001b[0m\n\u001b[0m\u001b[0;32m      4\u001b[0m \u001b[0msqs\u001b[0m\u001b[1;33m.\u001b[0m\u001b[0mrun\u001b[0m\u001b[1;33m(\u001b[0m\u001b[1;33m)\u001b[0m\u001b[1;33m\u001b[0m\u001b[0m\n\u001b[0;32m      5\u001b[0m \u001b[0mprint\u001b[0m\u001b[1;33m(\u001b[0m\u001b[1;34m\"result at \"\u001b[0m \u001b[1;33m+\u001b[0m \u001b[0mstr\u001b[0m\u001b[1;33m(\u001b[0m\u001b[0mtime\u001b[0m\u001b[1;33m.\u001b[0m\u001b[0mtime\u001b[0m\u001b[1;33m(\u001b[0m\u001b[1;33m)\u001b[0m \u001b[1;33m-\u001b[0m \u001b[0mx\u001b[0m\u001b[1;33m)\u001b[0m\u001b[1;33m)\u001b[0m\u001b[1;33m\u001b[0m\u001b[0m\n",
      "\u001b[1;32m~\\Desktop\\Master\\Sem 2\\scikit_learn.pattern_mining2\\src\\SQS_v2\\SQS.py\u001b[0m in \u001b[0;36m__init__\u001b[1;34m(self, database)\u001b[0m\n\u001b[0;32m     18\u001b[0m             \u001b[0mInitialize\u001b[0m \u001b[0mthe\u001b[0m \u001b[0malgorithm\u001b[0m \u001b[1;32mwith\u001b[0m \u001b[0mits\u001b[0m \u001b[0mdatabase\u001b[0m\u001b[1;33m,\u001b[0m\u001b[1;33m\u001b[0m\u001b[0m\n\u001b[0;32m     19\u001b[0m             \u001b[1;32mand\u001b[0m \u001b[0mset\u001b[0m \u001b[0mall\u001b[0m \u001b[0mits\u001b[0m \u001b[0minternal\u001b[0m \u001b[0mparameters\u001b[0m \u001b[0mto\u001b[0m \u001b[0mtheir\u001b[0m \u001b[0minitial\u001b[0m \u001b[0mstates\u001b[0m\u001b[1;33m\u001b[0m\u001b[0m\n\u001b[1;32m---> 20\u001b[1;33m \u001b[1;33m\u001b[0m\u001b[0m\n\u001b[0m\u001b[0;32m     21\u001b[0m             \u001b[1;33m:\u001b[0m\u001b[0mparam\u001b[0m \u001b[0mdatabase\u001b[0m\u001b[1;33m:\u001b[0m \u001b[0mname\u001b[0m \u001b[0mof\u001b[0m \u001b[0mthe\u001b[0m \u001b[0mdatabase\u001b[0m \u001b[0mused\u001b[0m\u001b[1;33m\u001b[0m\u001b[0m\n\u001b[0;32m     22\u001b[0m         \"\"\"\n",
      "\u001b[1;31mAttributeError\u001b[0m: 'str' object has no attribute 'make_standard_code_table'"
     ]
    }
   ],
   "source": [
    "import time\n",
    "x = time.time()\n",
    "sqs = SQS(\"fichier2\")\n",
    "sqs.run()\n",
    "print(\"result at \" + str(time.time() - x))"
   ]
  },
  {
   "cell_type": "markdown",
   "metadata": {},
   "source": [
    "### Analyse des résultats"
   ]
  },
  {
   "cell_type": "code",
   "execution_count": null,
   "metadata": {},
   "outputs": [],
   "source": [
    "tickets = open(\"res_testenter.txt\", \"r\").readlines()\n",
    "for ticket in tickets:\n",
    "    print(ticket)"
   ]
  },
  {
   "cell_type": "markdown",
   "metadata": {},
   "source": [
    "# Conclusion\n"
   ]
  },
  {
   "cell_type": "markdown",
   "metadata": {},
   "source": [
    "* Implémentation complète de SLIM, presque identique à celle du chercheur\n",
    "\n",
    "* Implémentation complète de DiffNorm, légérement supérieure à celle du chercheur\n",
    "\n",
    "* Implémentation partielle de SQS, inférieure à celle du chercheur\n",
    "\n",
    "* Respect des conventions et codes"
   ]
  }
 ],
 "metadata": {
  "kernelspec": {
   "display_name": "Python 3",
   "language": "python",
   "name": "python3"
  },
  "language_info": {
   "codemirror_mode": {
    "name": "ipython",
    "version": 3
   },
   "file_extension": ".py",
   "mimetype": "text/x-python",
   "name": "python",
   "nbconvert_exporter": "python",
   "pygments_lexer": "ipython3",
   "version": "3.6.5"
  }
 },
 "nbformat": 4,
 "nbformat_minor": 2
}
