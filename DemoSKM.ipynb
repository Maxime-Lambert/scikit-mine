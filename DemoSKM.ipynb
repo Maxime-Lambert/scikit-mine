{
 "cells": [
  {
   "cell_type": "markdown",
   "metadata": {},
   "source": [
    "# <center>Démonstration du projet SKM</center>\n",
    "\n",
    "\n",
    "<center> Etudiants : <strong>Pieric Giraud</strong>, <strong>Daniil Kochergin</strong>, Maxime Lambert, Yvan Le Duff, Melvin Piscot, Myriam Pavy, Josie Signe </center> <br>\n",
    "<center>Encadrants : Peggy Cellier, Laurent Guillo, Alexandre Termier </center> <br>\n",
    "<center>Master 1 Informatique - Université de Rennes 1<br> <br>\n",
    "Mardi 7 mai 2019 <br>\n",
    "</center>\n",
    "\n",
    "\n",
    "\n"
   ]
  },
  {
   "cell_type": "markdown",
   "metadata": {},
   "source": [
    "# Contexte du Projet"
   ]
  },
  {
   "cell_type": "markdown",
   "metadata": {},
   "source": [
    "* Implémentation d'algorithmes à partir d'articles de recherche"
   ]
  },
  {
   "cell_type": "code",
   "execution_count": null,
   "metadata": {},
   "outputs": [],
   "source": [
    "import time\n",
    "import os\n",
    "from src.Files import Files"
   ]
  },
  {
   "cell_type": "markdown",
   "metadata": {},
   "source": [
    "# Démonstration de SLIM"
   ]
  },
  {
   "cell_type": "code",
   "execution_count": null,
   "metadata": {},
   "outputs": [],
   "source": [
    "from src.SLIM.slimalgo import slim"
   ]
  },
  {
   "cell_type": "markdown",
   "metadata": {},
   "source": [
    "### SLIM \n"
   ]
  },
  {
   "cell_type": "markdown",
   "metadata": {},
   "source": [
    "<center><img src=\"slim.png\" alt=\"Slim scheme\"></center>"
   ]
  },
  {
   "cell_type": "markdown",
   "metadata": {},
   "source": [
    "### Jeu de données : Consommateurs "
   ]
  },
  {
   "cell_type": "code",
   "execution_count": null,
   "metadata": {},
   "outputs": [],
   "source": [
    "tickets = open(\"tickets.txt\", \"r\").readlines()\n",
    "for ticket in tickets[-15:]:\n",
    "    print(ticket)"
   ]
  },
  {
   "cell_type": "markdown",
   "metadata": {},
   "source": [
    "### Lancement de l'algorithme"
   ]
  },
  {
   "cell_type": "code",
   "execution_count": null,
   "metadata": {},
   "outputs": [],
   "source": [
    "# en entree : file.txt\n",
    "# en sortie : file.txt.res\n",
    "\n",
    "# Lancement de SLIM avec le fichier tickets.txt dans le répertoire courant\n",
    "x = time.time()\n",
    "code_table = slim(\"tickets\", 1000)\n",
    "print(\"Result found in \"+str(time.time() - x)+\" seconds.\")"
   ]
  },
  {
   "cell_type": "markdown",
   "metadata": {},
   "source": [
    "### Analyse des résultats"
   ]
  },
  {
   "cell_type": "code",
   "execution_count": null,
   "metadata": {},
   "outputs": [],
   "source": [
    "tickets = open(\"res_tickets.txt\", \"r\").readlines()\n",
    "for ticket in tickets:\n",
    "    print(ticket)"
   ]
  },
  {
   "cell_type": "markdown",
   "metadata": {},
   "source": [
    "### Jeu de données : Iris "
   ]
  },
  {
   "cell_type": "code",
   "execution_count": null,
   "metadata": {},
   "outputs": [],
   "source": [
    "tickets = open(\"iris.txt\", \"r\").readlines()\n",
    "for ticket in tickets[-15:]:\n",
    "    print(ticket)"
   ]
  },
  {
   "cell_type": "markdown",
   "metadata": {},
   "source": [
    "### Lancement de l'algorithme"
   ]
  },
  {
   "cell_type": "code",
   "execution_count": null,
   "metadata": {},
   "outputs": [],
   "source": [
    "x = time.time()\n",
    "code_table = slim(\"iris\", 1000)\n",
    "print(\"Result found in \"+str(time.time() - x)+\" seconds. \\n\")"
   ]
  },
  {
   "cell_type": "markdown",
   "metadata": {},
   "source": [
    "### Analyse des résultats"
   ]
  },
  {
   "cell_type": "code",
   "execution_count": null,
   "metadata": {},
   "outputs": [],
   "source": [
    "with open('res_iris.txt', 'r') as file1:\n",
    "    with open('iris_chercheur.ct', 'r') as file2:\n",
    "        same = set(file1).intersection(file2)\n",
    "        diff = set(file1).difference(file2)\n",
    "\n",
    "same.discard('\\n')\n",
    "diff.discard('\\n')\n",
    "\n",
    "print(\"Patterns that are the same:\\n\")\n",
    "for line in same:\n",
    "    print(line)"
   ]
  },
  {
   "cell_type": "code",
   "execution_count": null,
   "metadata": {},
   "outputs": [],
   "source": [
    "print(\"What is different?\\n\")\n",
    "nothing = True\n",
    "for line in diff:\n",
    "    print(line)\n",
    "    nothing = False\n",
    "if nothing:\n",
    "    print(\"Nothing\")"
   ]
  },
  {
   "cell_type": "markdown",
   "metadata": {},
   "source": [
    "# Démonstration DiffNorm"
   ]
  },
  {
   "cell_type": "code",
   "execution_count": null,
   "metadata": {},
   "outputs": [],
   "source": [
    "from src.DiffNorm.DiffNorm1 import DiffNorm1"
   ]
  },
  {
   "cell_type": "markdown",
   "metadata": {},
   "source": [
    "### DiffNorm \n"
   ]
  },
  {
   "cell_type": "markdown",
   "metadata": {},
   "source": [
    "<img src=\"diffnorm.png\" alt=\"DiffNorm scheme\">"
   ]
  },
  {
   "cell_type": "markdown",
   "metadata": {},
   "source": [
    "### Jeu de données : Pays"
   ]
  },
  {
   "cell_type": "code",
   "execution_count": null,
   "metadata": {},
   "outputs": [],
   "source": [
    "tickets = open(\"Europe\", \"r\").readlines()\n",
    "for ticket in tickets[10:20]:\n",
    "    print(ticket)"
   ]
  },
  {
   "cell_type": "code",
   "execution_count": null,
   "metadata": {},
   "outputs": [],
   "source": [
    "tickets = open(\"Amerique\", \"r\").readlines()\n",
    "for ticket in tickets[10:20]:\n",
    "    print(ticket)"
   ]
  },
  {
   "cell_type": "markdown",
   "metadata": {},
   "source": [
    "### Lancement de l'algorithme"
   ]
  },
  {
   "cell_type": "code",
   "execution_count": null,
   "metadata": {},
   "outputs": [],
   "source": [
    "x = time.time()\n",
    "d = DiffNorm1(\"all_continents\", \"u_continents\")\n",
    "d.run()\n",
    "print(\"Result found in \"+str(time.time() - x)+\" seconds.\")"
   ]
  },
  {
   "cell_type": "markdown",
   "metadata": {},
   "source": [
    "### Analyse des résultats"
   ]
  },
  {
   "cell_type": "code",
   "execution_count": null,
   "metadata": {},
   "outputs": [],
   "source": [
    "tickets = open(\"./demo/result_all_continents\", \"r\").readlines()\n",
    "for ticket in tickets[1:17]:\n",
    "    print(ticket)"
   ]
  },
  {
   "cell_type": "code",
   "execution_count": null,
   "metadata": {},
   "outputs": [],
   "source": [
    "for ticket in tickets[-13:]:\n",
    "    print(ticket)"
   ]
  },
  {
   "cell_type": "markdown",
   "metadata": {},
   "source": [
    "# Démonstration de SQS\n"
   ]
  },
  {
   "cell_type": "code",
   "execution_count": null,
   "metadata": {},
   "outputs": [],
   "source": [
    "from src.SQS_v2.Database import Database\n",
    "from src.SQS_v2.SQS import SQS"
   ]
  },
  {
   "cell_type": "markdown",
   "metadata": {},
   "source": [
    "### SQS \n"
   ]
  },
  {
   "cell_type": "markdown",
   "metadata": {},
   "source": [
    "\n",
    "TODO : Ajouter l'image qui rappelle ce que fait l'algo\n",
    "\n",
    "Réexpliquer les principaux points de SQS en s'appuyant sur l'image\n",
    "\n",
    "* Il faut que le code marche ! (substring + estimate)"
   ]
  },
  {
   "cell_type": "markdown",
   "metadata": {},
   "source": [
    "### Jeu de données : ??"
   ]
  },
  {
   "cell_type": "code",
   "execution_count": null,
   "metadata": {},
   "outputs": [],
   "source": [
    "# TODO charger le fichier \n",
    "# TODO montrer les premières lignes du fichier et les expliquer à l'oral"
   ]
  },
  {
   "cell_type": "markdown",
   "metadata": {},
   "source": [
    "### Lancement de l'algorithme"
   ]
  },
  {
   "cell_type": "code",
   "execution_count": null,
   "metadata": {},
   "outputs": [],
   "source": [
    "print(\"Hello World\")"
   ]
  },
  {
   "cell_type": "markdown",
   "metadata": {},
   "source": [
    "### Analyse des résultats"
   ]
  },
  {
   "cell_type": "code",
   "execution_count": null,
   "metadata": {},
   "outputs": [],
   "source": [
    "# TODO charger le fichier de résultat\n",
    "# TODO afficher les premières lignes du fichier de résultat\n",
    "# Expliquer à l'oral les choses intéressantes sur ce fichier"
   ]
  },
  {
   "cell_type": "markdown",
   "metadata": {},
   "source": [
    "# Conclusion\n"
   ]
  },
  {
   "cell_type": "markdown",
   "metadata": {},
   "source": []
  }
 ],
 "metadata": {
  "kernelspec": {
   "display_name": "Python 3",
   "language": "python",
   "name": "python3"
  },
  "language_info": {
   "codemirror_mode": {
    "name": "ipython",
    "version": 3
   },
   "file_extension": ".py",
   "mimetype": "text/x-python",
   "name": "python",
   "nbconvert_exporter": "python",
   "pygments_lexer": "ipython3",
   "version": "3.7.0"
  }
 },
 "nbformat": 4,
 "nbformat_minor": 2
}
