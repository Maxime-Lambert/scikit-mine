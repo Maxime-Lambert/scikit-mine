{
 "cells": [
  {
   "cell_type": "markdown",
   "metadata": {},
   "source": [
    "<img src=\"Univ.png\" width=120 align=\"right\"> <img src=\"Istic.png\" width=120 align=\"left\"> \n",
    "\n",
    "# <center>Démonstration du projet SKM</center>\n",
    "\n",
    "\n",
    "<center> Etudiants : <strong>Piéric Giraud</strong>, <strong>Daniil Kochergin</strong>, Maxime Lambert, Yvan Le Duff, Melvin Piscot, Myriam Pavy, <strong>Josie Signe</strong> </center> <br>\n",
    "<center>Encadrants : Peggy Cellier, Alexandre Termier, Laurent Guillo </center> <br>\n",
    "<center>Master 1 Informatique - Université de Rennes 1<br> <br>\n",
    "Mardi 7 mai 2019 <br>\n",
    "</center>\n",
    "\n",
    "\n",
    "\n"
   ]
  },
  {
   "cell_type": "markdown",
   "metadata": {},
   "source": [
    "# Contexte du Projet"
   ]
  },
  {
   "cell_type": "markdown",
   "metadata": {},
   "source": [
    "<img src=\"Scikit.png\" width=160 align=\"right\">\n",
    "\n",
    "* Implémentation d'algorithmes de pattern mining, SLIM, DiffNorm, SQS,à partir d'articles de recherche.\n",
    "\n",
    "* Conformation du code par rapport à la bibliothèque Scikit-learn\n",
    "\n",
    "* Respect des normes de codage PEP8"
   ]
  },
  {
   "cell_type": "code",
   "execution_count": 1,
   "metadata": {},
   "outputs": [],
   "source": [
    "import time\n",
    "import os\n",
    "from src.Files import Files"
   ]
  },
  {
   "cell_type": "markdown",
   "metadata": {},
   "source": [
    "# Démonstration de SLIM"
   ]
  },
  {
   "cell_type": "markdown",
   "metadata": {},
   "source": [
    "### SLIM \n"
   ]
  },
  {
   "cell_type": "markdown",
   "metadata": {},
   "source": [
    "<center><img src=\"slim.png\" alt=\"Slim scheme\"></center>"
   ]
  },
  {
   "cell_type": "code",
   "execution_count": 2,
   "metadata": {},
   "outputs": [],
   "source": [
    "from src.SLIM.slimalgo import slim"
   ]
  },
  {
   "cell_type": "markdown",
   "metadata": {},
   "source": [
    "### Jeu de données : Consommateurs "
   ]
  },
  {
   "cell_type": "code",
   "execution_count": 3,
   "metadata": {},
   "outputs": [
    {
     "name": "stdout",
     "output_type": "stream",
     "text": [
      "bière crackers\n",
      "\n",
      "beurre saucisson fromage\n",
      "\n",
      "eau sirop limonade chips\n",
      "\n",
      "chaussette couches vin\n",
      "\n",
      "vin\n",
      "\n",
      "pain\n",
      "\n",
      "limonade sirop saucisson\n",
      "\n",
      "eau sirop limonade chips\n",
      "\n",
      "eau sirop\n",
      "\n",
      "limonade sirop saucisson\n"
     ]
    }
   ],
   "source": [
    "tickets = open(\"tickets.txt\", \"r\", encoding=\"utf-8\").readlines()\n",
    "for ticket in tickets[-10:]:\n",
    "    print(ticket)"
   ]
  },
  {
   "cell_type": "markdown",
   "metadata": {},
   "source": [
    "### Lancement de l'algorithme"
   ]
  },
  {
   "cell_type": "code",
   "execution_count": 4,
   "metadata": {},
   "outputs": [
    {
     "name": "stdout",
     "output_type": "stream",
     "text": [
      "Encoded length of model and database : 724.7708686656963 bits \n",
      "\n",
      "Result found in 1.2512757778167725 seconds.\n"
     ]
    }
   ],
   "source": [
    "x = time.time()\n",
    "code_table = slim(\"tickets\", 1000)\n",
    "print(\"Result found in \"+str(time.time() - x)+\" seconds.\")"
   ]
  },
  {
   "cell_type": "markdown",
   "metadata": {},
   "source": [
    "### Analyse des résultats"
   ]
  },
  {
   "cell_type": "code",
   "execution_count": 5,
   "metadata": {},
   "outputs": [
    {
     "name": "stdout",
     "output_type": "stream",
     "text": [
      "nutella pain (52,52)\n",
      "\n",
      "fromage pain (42,42)\n",
      "\n",
      "limonade saucisson sirop (22,22)\n",
      "\n",
      "pain (18,112)\n",
      "\n",
      "bière crackers (16,16)\n",
      "\n",
      "chips eau limonade sirop (14,14)\n",
      "\n",
      "eau sirop (14,28)\n",
      "\n",
      "beurre fromage saucisson (10,10)\n",
      "\n",
      "vin (8,12)\n",
      "\n",
      "chaussette couches vin (4,4)\n",
      "\n",
      "nutella (0,52)\n",
      "\n",
      "fromage (0,52)\n",
      "\n",
      "sirop (0,50)\n",
      "\n",
      "limonade (0,36)\n",
      "\n",
      "saucisson (0,32)\n",
      "\n",
      "eau (0,28)\n",
      "\n",
      "bière (0,16)\n",
      "\n",
      "crackers (0,16)\n",
      "\n",
      "chips (0,14)\n",
      "\n",
      "beurre (0,10)\n",
      "\n",
      "chaussette (0,4)\n",
      "\n",
      "couches (0,4)\n"
     ]
    }
   ],
   "source": [
    "tickets = open(\"res_tickets.txt\", \"r\", encoding=\"utf-8\").readlines()\n",
    "tickets.sort(reverse=True, key=lambda x: int(x[x.find('(')+1:x.find('(')+3].replace(',', '')))\n",
    "for ticket in tickets:\n",
    "    print(ticket)"
   ]
  },
  {
   "cell_type": "markdown",
   "metadata": {},
   "source": [
    "### Jeu de données : Iris "
   ]
  },
  {
   "cell_type": "code",
   "execution_count": 6,
   "metadata": {},
   "outputs": [
    {
     "name": "stdout",
     "output_type": "stream",
     "text": [
      "0 3 6 7 8\n",
      "\n",
      "0 2 5 10 13\n",
      "\n",
      "1 4 9 13 14\n",
      "\n",
      "0 3 6 7 8\n",
      "\n",
      "2 5 10 11 12\n",
      "\n",
      "1 4 9 14 15\n",
      "\n",
      "0 3 6 7 8\n",
      "\n",
      "2 5 10 15 17\n",
      "\n",
      "1 4 9 13 14\n",
      "\n",
      "0 1 4 9 13\n",
      "\n"
     ]
    }
   ],
   "source": [
    "tickets = open(\"iris.txt\", \"r\").readlines()\n",
    "for ticket in tickets[-10:]:\n",
    "    print(ticket)"
   ]
  },
  {
   "cell_type": "markdown",
   "metadata": {},
   "source": [
    "### Lancement de l'algorithme"
   ]
  },
  {
   "cell_type": "code",
   "execution_count": 7,
   "metadata": {},
   "outputs": [
    {
     "name": "stdout",
     "output_type": "stream",
     "text": [
      "Encoded length of model and database : 1487.392746471831 bits \n",
      "\n",
      "Result found in 7.432741641998291 seconds. \n",
      "\n"
     ]
    }
   ],
   "source": [
    "x = time.time()\n",
    "code_table = slim(\"iris\", 1000)\n",
    "print(\"Result found in \"+str(time.time() - x)+\" seconds. \\n\")"
   ]
  },
  {
   "cell_type": "markdown",
   "metadata": {},
   "source": [
    "### Analyse des résultats"
   ]
  },
  {
   "cell_type": "code",
   "execution_count": 8,
   "metadata": {},
   "outputs": [
    {
     "name": "stdout",
     "output_type": "stream",
     "text": [
      "Patterns that are the same:\n",
      "\n",
      "0 3 6 7 8 (37,37)\n",
      "\n",
      "2 5 10 11 (26,26)\n",
      "\n",
      "1 4 9 15 (16,16)\n",
      "\n",
      "1 4 9 13 (21,21)\n",
      "\n",
      "0 6 7 8 11 (5,5)\n",
      "\n",
      "3 6 7 8 (8,45)\n",
      "\n",
      "2 5 10 (18,44)\n",
      "\n",
      "1 4 9 11 (8,8)\n",
      "\n",
      "1 2 5 (4,4)\n",
      "\n",
      "1 2 4 (4,4)\n",
      "\n",
      "1 5 9 (2,2)\n",
      "\n",
      "14 (26,26)\n",
      "\n",
      "16 (14,14)\n",
      "\n",
      "12 (33,33)\n",
      "\n",
      "17 (10,10)\n",
      "\n",
      "15 (9,25)\n",
      "\n",
      "13 (7,28)\n",
      "\n",
      "0 (25,67)\n",
      "\n",
      "11 (4,43)\n",
      "\n",
      "10 (0,45)\n",
      "\n",
      "3 (6,52)\n",
      "\n",
      "1 (0,55)\n",
      "\n",
      "2 (0,52)\n",
      "\n",
      "8 (0,50)\n",
      "\n",
      "7 (0,50)\n",
      "\n",
      "6 (0,50)\n",
      "\n",
      "5 (0,50)\n",
      "\n",
      "4 (0,50)\n",
      "\n",
      "9 (0,48)\n",
      "\n",
      "18 (2,2)\n"
     ]
    }
   ],
   "source": [
    "file1 = open('res_iris.txt', 'r').readlines()\n",
    "file2 = open('iris_chercheur.ct', 'r').readlines()\n",
    "file1.sort(key=lambda x: (len(x), x[-6:-1], str(x)), reverse = True)\n",
    "file2.sort(key=lambda x: (len(x), x[-6:-1], str(x)), reverse = True)\n",
    "same = []\n",
    "diff = []\n",
    "for l1, l2 in zip(file1, file2):\n",
    "    if set(l1.split(' ')[:-1]) == set(l2.split(' ')[:-1]):\n",
    "        same.append(l1)\n",
    "    else:\n",
    "        if l1 in diff:\n",
    "            diff.remove(l1)\n",
    "        elif l2 in diff:\n",
    "            diff.remove(l2)\n",
    "        else:\n",
    "            diff.append(l1)\n",
    "            diff.append(l2)\n",
    "\n",
    "print(\"Patterns that are the same:\\n\")\n",
    "for line in same:\n",
    "    print(line)"
   ]
  },
  {
   "cell_type": "code",
   "execution_count": 10,
   "metadata": {},
   "outputs": [
    {
     "name": "stdout",
     "output_type": "stream",
     "text": [
      "What is different?\n",
      "\n",
      "3 4 9 10 (1,1)\n",
      "\n",
      "4 9 10 (1,1)\n",
      "\n"
     ]
    }
   ],
   "source": [
    "print(\"What is different?\\n\")\n",
    "nothing = True\n",
    "for line in diff:\n",
    "    print(line)\n",
    "    nothing = False\n",
    "if nothing:\n",
    "    print(\"Nothing\")"
   ]
  },
  {
   "cell_type": "markdown",
   "metadata": {},
   "source": [
    "# Démonstration DiffNorm"
   ]
  },
  {
   "cell_type": "markdown",
   "metadata": {},
   "source": [
    "### DiffNorm \n"
   ]
  },
  {
   "cell_type": "markdown",
   "metadata": {},
   "source": [
    "<img src=\"diffnorm.png\" alt=\"DiffNorm scheme\">"
   ]
  },
  {
   "cell_type": "code",
   "execution_count": 11,
   "metadata": {},
   "outputs": [],
   "source": [
    "from src.DiffNorm.DiffNorm1 import DiffNorm1"
   ]
  },
  {
   "cell_type": "markdown",
   "metadata": {},
   "source": [
    "### Jeu de données : Pays"
   ]
  },
  {
   "cell_type": "code",
   "execution_count": 12,
   "metadata": {},
   "outputs": [
    {
     "name": "stdout",
     "output_type": "stream",
     "text": [
      "1 6 7 8\n",
      "\n",
      "1 6 7\n",
      "\n",
      "1 6 7\n",
      "\n",
      "7 8\n",
      "\n",
      "5 9 4\n",
      "\n",
      "1 6 7 8\n",
      "\n",
      "1 6 7 2\n",
      "\n",
      "1 6 7\n",
      "\n",
      "6 7\n",
      "\n",
      "5 2 1\n",
      "\n"
     ]
    }
   ],
   "source": [
    "tickets = open(\"Europe\", \"r\").readlines()\n",
    "for ticket in tickets[10:20]:\n",
    "    print(ticket)"
   ]
  },
  {
   "cell_type": "code",
   "execution_count": 13,
   "metadata": {},
   "outputs": [
    {
     "name": "stdout",
     "output_type": "stream",
     "text": [
      "8 5 6 7\n",
      "\n",
      "5 6 7\n",
      "\n",
      "5 6 7\n",
      "\n",
      "6 7\n",
      "\n",
      "6 9\n",
      "\n",
      "5 6 7\n",
      "\n",
      "5 6 7\n",
      "\n",
      "6 7\n",
      "\n",
      "6\n",
      "\n",
      "1 5 6 7\n",
      "\n"
     ]
    }
   ],
   "source": [
    "tickets = open(\"Amerique\", \"r\").readlines()\n",
    "for ticket in tickets[10:20]:\n",
    "    print(ticket)"
   ]
  },
  {
   "cell_type": "markdown",
   "metadata": {},
   "source": [
    "### Lancement de l'algorithme"
   ]
  },
  {
   "cell_type": "code",
   "execution_count": 14,
   "metadata": {},
   "outputs": [
    {
     "name": "stdout",
     "output_type": "stream",
     "text": [
      "Result found in 0.5107040405273438 seconds.\n"
     ]
    }
   ],
   "source": [
    "x = time.time()\n",
    "d = DiffNorm1(\"all_continents\", \"u_continents\")\n",
    "d.run()\n",
    "print(\"Result found in \"+str(time.time() - x)+\" seconds.\")"
   ]
  },
  {
   "cell_type": "markdown",
   "metadata": {},
   "source": [
    "### Analyse des résultats"
   ]
  },
  {
   "cell_type": "code",
   "execution_count": 15,
   "metadata": {},
   "outputs": [
    {
     "name": "stdout",
     "output_type": "stream",
     "text": [
      "<@@@@@@@@ Pattern Sets @@@@@@@@>\n",
      "\n",
      "<@@@@@@@@ S0 @@@@@@@@>\n",
      "\n",
      "{1, 6, 7}\n",
      "\n",
      "\n",
      "\n",
      "<@@@@@@@@ S1 @@@@@@@@>\n",
      "\n",
      "{5, 6, 7}\n",
      "\n",
      "\n",
      "\n",
      "<@@@@@@@@ S2 @@@@@@@@>\n",
      "\n",
      "{2, 4}\n",
      "\n",
      "\n",
      "\n",
      "<@@@@@@@@ S3 @@@@@@@@>\n",
      "\n",
      "{6, 7}\n",
      "\n",
      "\n",
      "\n"
     ]
    }
   ],
   "source": [
    "tickets = open(\"./demo/result_all_continents\", \"r\").readlines()\n",
    "for ticket in tickets[-13:]:\n",
    "    print(ticket)"
   ]
  },
  {
   "cell_type": "markdown",
   "metadata": {},
   "source": [
    "# Démonstration de SQS\n"
   ]
  },
  {
   "cell_type": "markdown",
   "metadata": {},
   "source": [
    "### SQS \n"
   ]
  },
  {
   "cell_type": "markdown",
   "metadata": {},
   "source": [
    "\n",
    "<center><img src=\"SQS.png\" alt=\"SQS scheme\" width=800></center>\n"
   ]
  },
  {
   "cell_type": "code",
   "execution_count": null,
   "metadata": {},
   "outputs": [],
   "source": [
    "from src.SQS_v2.Database import Database\n",
    "from src.SQS_v2.SQS import SQS"
   ]
  },
  {
   "cell_type": "markdown",
   "metadata": {},
   "source": [
    "### Jeu de données : "
   ]
  },
  {
   "cell_type": "code",
   "execution_count": null,
   "metadata": {},
   "outputs": [],
   "source": [
    "tickets = open(\"testenter.txt\", \"r\").readlines()\n",
    "for ticket in tickets [:10]:\n",
    "    print(ticket)"
   ]
  },
  {
   "cell_type": "markdown",
   "metadata": {},
   "source": [
    "### Lancement de l'algorithme"
   ]
  },
  {
   "cell_type": "code",
   "execution_count": null,
   "metadata": {},
   "outputs": [],
   "source": [
    "my_file = Files(\"D:\\COURS IMPORTANT\\SKM\\scikit_learn.pattern_mining-master\\entry\")\n",
    "database = Database(my_file.list_int)\n",
    "ct = database.make_standard_code_table()\n",
    "sqs = SQS(database)\n",
    "sqs.search()"
   ]
  },
  {
   "cell_type": "code",
   "execution_count": null,
   "metadata": {},
   "outputs": [],
   "source": [
    "file2 = open(\"D:\\COURS IMPORTANT\\SKM\\scikit_learn.pattern_mining-master\\entry.txt\", 'r').readlines()"
   ]
  },
  {
   "cell_type": "markdown",
   "metadata": {},
   "source": [
    "### Analyse des résultats"
   ]
  },
  {
   "cell_type": "code",
   "execution_count": null,
   "metadata": {},
   "outputs": [],
   "source": [
    "tickets = open(\"res_entry.txt\", \"r\").readlines()\n",
    "for ticket in tickets:\n",
    "    print(ticket)"
   ]
  },
  {
   "cell_type": "markdown",
   "metadata": {},
   "source": [
    "# Conclusion\n"
   ]
  },
  {
   "cell_type": "markdown",
   "metadata": {},
   "source": [
    "* Implémentation complète de SLIM, presque identique à celle du papier de référence\n",
    "\n",
    "* Implémentation complète de DiffNorm, plus poussée que celle du papier de référence\n",
    "\n",
    "* Implémentation partielle de SQS, inférieure à celle du papier de référence\n",
    "\n",
    "* Respect des conventions et codes"
   ]
  }
 ],
 "metadata": {
  "kernelspec": {
   "display_name": "Python 3",
   "language": "python",
   "name": "python3"
  },
  "language_info": {
   "codemirror_mode": {
    "name": "ipython",
    "version": 3
   },
   "file_extension": ".py",
   "mimetype": "text/x-python",
   "name": "python",
   "nbconvert_exporter": "python",
   "pygments_lexer": "ipython3",
   "version": "3.7.1"
  }
 },
 "nbformat": 4,
 "nbformat_minor": 2
}
