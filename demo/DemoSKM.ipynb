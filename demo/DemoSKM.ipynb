{
 "cells": [
  {
   "cell_type": "markdown",
   "metadata": {},
   "source": [
    "\n",
    "# <center>Démonstration du projet SKM</center>\n",
    "\n",
    "\n",
    "<center> Etudiants : __Pieric Giraud__, __Daniil Kochergin__, Maxime Lambert, Yvan Le Duff, Melvin Piscot, Myriam Pavy, Josie Signe </center> <br>\n",
    "<center>Encadrants : Peggy Cellier, Laurent Guillo, Alexandre Termier </center> <br>\n",
    "<center>Master 1 Informatique - Université de Rennes 1<br> <br>\n",
    "Mardi 7 mai 2019 <br>\n",
    "</center>\n",
    "\n",
    "\n",
    "\n"
   ]
  },
  {
   "cell_type": "markdown",
   "metadata": {},
   "source": [
    "# Contexte du Projet"
   ]
  },
  {
   "cell_type": "markdown",
   "metadata": {},
   "source": [
    "* Implémentation d'algorithmes à partir d'articles de recherche"
    <img src="files/MindBlown.gif">
    <img src="MyImage.png",width=60,height=60>
   ]
  },
  {
   "cell_type": "code",
   "execution_count": 1,
   "metadata": {},
   "outputs": [
    {
     "name": "stdout",
     "output_type": "stream",
     "text": [
      "coucou\n"
     ]
    }
   ],
   "source": [
    "import time\n",
    "time.sleep(2)\n",
    "print(\"coucou\")"
   ]
  },
  {
   "cell_type": "markdown",
   "metadata": {},
   "source": [
    "# Démonstration de SLIM"
   ]
  },
  {
   "cell_type": "code",
   "execution_count": 2,
   "metadata": {
    "collapsed": true
   },
   "outputs": [],
   "source": [
    "# TODO importer votre code ici (cf ce qu'a fait Alexandre)"
   ]
  },
  {
   "cell_type": "markdown",
   "metadata": {},
   "source": [
    "### SLIM \n"
   ]
  },
  {
   "cell_type": "markdown",
   "metadata": {},
   "source": [
    "\n",
    "TODO : Ajouter l'image qui rappelle ce que fait l'algo\n",
    "\n",
    "Réexpliquer les principaux points de SLIM en s'appuyant sur l'image\n",
    "\n",
    "* \"Implémentation de référence de l'article de recherche\""
   ]
  },
  {
   "cell_type": "markdown",
   "metadata": {},
   "source": [
    "### Jeu de données : Consommateurs "
   ]
  },
  {
   "cell_type": "code",
   "execution_count": 3,
   "metadata": {
    "collapsed": true
   },
   "outputs": [],
   "source": [
    "# TODO charger le fichier \n",
    "# TODO montrer les premières lignes du fichier et les expliquer à l'oral\n",
    "# fichier : file.txt"
   ]
  },
  {
   "cell_type": "markdown",
   "metadata": {},
   "source": [
    "### Lancement de l'algorithme"
   ]
  },
  {
   "cell_type": "code",
   "execution_count": 4,
   "metadata": {},
   "outputs": [
    {
     "name": "stdout",
     "output_type": "stream",
     "text": [
      "Hello World\n"
     ]
    }
   ],
   "source": [
    "# Dans cette cellule mettre le code d'appel qui se trouve dans def slim()\n",
    "# et l'expliquer (éventuellement mettre en commentaire des information pour vous aider)\n",
    "# en entree : file.txt\n",
    "# en sortie : file.txt.res\n",
    "\n",
    "# Lancement de SLIM avec le fichier file.txt dans le répertoire courant\n",
    "slim(\"iris\", 1000);"
   ]
  },
  {
   "cell_type": "markdown",
   "metadata": {},
   "source": [
    "### Analyse des résultats"
   ]
  },
  {
   "cell_type": "code",
   "execution_count": 5,
   "metadata": {
    "collapsed": true
   },
   "outputs": [],
   "source": [
    "# TODO charger le fichier de résultat\n",
    "# TODO afficher les premières lignes du fichier de résultat\n",
    "# Expliquer à l'oral les choses intéressantes sur ce fichier"
   ]
  },
  {
   "cell_type": "markdown",
   "metadata": {},
   "source": [
    "# Démonstration DiffNorm"
   ]
  },
  {
   "cell_type": "markdown",
   "metadata": {},
   "source": [
    "### DiffNorm \n"
   ]
  },
  {
   "cell_type": "markdown",
   "metadata": {},
   "source": [
    "\n",
    "TODO : Ajouter l'image qui rappelle ce que fait l'algo\n",
    "\n",
    "Réexpliquer les principaux points de Diffnorm en s'appuyant sur l'image"
   ]
  },
  {
   "cell_type": "markdown",
   "metadata": {},
   "source": [
    "### Jeu de données : Pays"
   ]
  },
  {
   "cell_type": "code",
   "execution_count": 6,
   "metadata": {
    "collapsed": true
   },
   "outputs": [],
   "source": [
    "# TODO charger le fichier \n",
    "# TODO montrer les premières lignes du fichier et les expliquer à l'oral"
   ]
  },
  {
   "cell_type": "markdown",
   "metadata": {},
   "source": [
    "### Lancement de l'algorithme"
   ]
  },
  {
   "cell_type": "code",
   "execution_count": 7,
   "metadata": {},
   "outputs": [
    {
     "name": "stdout",
     "output_type": "stream",
     "text": [
      "Hello World\n"
     ]
    }
   ],
   "source": [
    "print(\"Hello World\")"
   ]
  },
  {
   "cell_type": "markdown",
   "metadata": {},
   "source": [
    "### Analyse des résultats"
   ]
  },
  {
   "cell_type": "code",
   "execution_count": 8,
   "metadata": {
    "collapsed": true
   },
   "outputs": [],
   "source": [
    "# TODO charger le fichier de résultat\n",
    "# TODO afficher les premières lignes du fichier de résultat\n",
    "# Expliquer à l'oral les choses intéressantes sur ce fichier"
   ]
  },
  {
   "cell_type": "markdown",
   "metadata": {},
   "source": [
    "# Démonstration de SQS\n"
   ]
  },
  {
   "cell_type": "markdown",
   "metadata": {},
   "source": [
    "### SQS \n"
   ]
  },
  {
   "cell_type": "markdown",
   "metadata": {},
   "source": [
    "\n",
    "TODO : Ajouter l'image qui rappelle ce que fait l'algo\n",
    "\n",
    "Réexpliquer les principaux points de SQS en s'appuyant sur l'image\n",
    "\n",
    "* Il faut que le code marche ! (substring + estimate)"
   ]
  },
  {
   "cell_type": "markdown",
   "metadata": {},
   "source": [
    "### Jeu de données : ??"
   ]
  },
  {
   "cell_type": "code",
   "execution_count": 9,
   "metadata": {
    "collapsed": true
   },
   "outputs": [],
   "source": [
    "# TODO charger le fichier \n",
    "# TODO montrer les premières lignes du fichier et les expliquer à l'oral"
   ]
  },
  {
   "cell_type": "markdown",
   "metadata": {},
   "source": [
    "### Lancement de l'algorithme"
   ]
  },
  {
   "cell_type": "code",
   "execution_count": 10,
   "metadata": {},
   "outputs": [
    {
     "name": "stdout",
     "output_type": "stream",
     "text": [
      "Hello World\n"
     ]
    }
   ],
   "source": [
    "print(\"Hello World\")"
   ]
  },
  {
   "cell_type": "markdown",
   "metadata": {},
   "source": [
    "### Analyse des résultats"
   ]
  },
  {
   "cell_type": "code",
   "execution_count": 11,
   "metadata": {
    "collapsed": true
   },
   "outputs": [],
   "source": [
    "# TODO charger le fichier de résultat\n",
    "# TODO afficher les premières lignes du fichier de résultat\n",
    "# Expliquer à l'oral les choses intéressantes sur ce fichier"
   ]
  },
  {
   "cell_type": "markdown",
   "metadata": {},
   "source": [
    "# Conclusion\n"
   ]
  },
  {
   "cell_type": "markdown",
   "metadata": {},
   "source": []
  }
 ],
 "metadata": {
  "kernelspec": {
   "display_name": "Python 3",
   "language": "python",
   "name": "python3"
  },
  "language_info": {
   "codemirror_mode": {
    "name": "ipython",
    "version": 3
   },
   "file_extension": ".py",
   "mimetype": "text/x-python",
   "name": "python",
   "nbconvert_exporter": "python",
   "pygments_lexer": "ipython3",
   "version": "3.6.3"
  }
 },
 "nbformat": 4,
 "nbformat_minor": 2
}
