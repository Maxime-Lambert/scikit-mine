{
 "cells": [
  {
   "cell_type": "code",
   "execution_count": 1,
   "metadata": {},
   "outputs": [
    {
     "data": {
      "text/plain": [
       "4"
      ]
     },
     "execution_count": 1,
     "metadata": {},
     "output_type": "execute_result"
    }
   ],
   "source": [
    "2*2"
   ]
  },
  {
   "cell_type": "code",
   "execution_count": 2,
   "metadata": {},
   "outputs": [],
   "source": [
    "from src.SLIM.slimalgo import slim\n",
    "from src.DiffNorm.DiffNorm1 import DiffNorm1\n",
    "from src.Files import Files\n",
    "from src.SQS_v2.Database import Database\n",
    "from src.SQS_v2.SQS import SQS"
   ]
  },
  {
   "cell_type": "code",
   "execution_count": 3,
   "metadata": {},
   "outputs": [
    {
     "name": "stdout",
     "output_type": "stream",
     "text": [
      "Encoded length of model and database : 1487.392746471831 bits \n",
      "\n"
     ]
    },
    {
     "data": {
      "text/plain": [
       "{6, 7, 8, 9, 10}  #USG : 37   #SUP : 37  #CODELEN : 2.9504179711494394\n",
       "{4, 6, 8, 9, 10}  #USG : 5   #SUP : 5  #CODELEN : 5.837943241891027\n",
       "{8, 9, 10, 7}  #USG : 8   #SUP : 45  #CODELEN : 5.159871336778389\n",
       "{1, 2, 3, 4}  #USG : 26   #SUP : 26  #CODELEN : 3.4594316186372973\n",
       "{11, 12, 13, 14}  #USG : 21   #SUP : 21  #CODELEN : 3.7675539139996292\n",
       "{17, 11, 12, 13}  #USG : 16   #SUP : 16  #CODELEN : 4.159871336778389\n",
       "{13, 11, 4, 12}  #USG : 8   #SUP : 8  #CODELEN : 5.159871336778389\n",
       "{3, 12, 13, 7}  #USG : 1   #SUP : 1  #CODELEN : 8.159871336778389\n",
       "{1, 2, 3}  #USG : 18   #SUP : 44  #CODELEN : 3.989946335336077\n",
       "{1, 2, 11}  #USG : 4   #SUP : 4  #CODELEN : 6.159871336778389\n",
       "{1, 11, 12}  #USG : 4   #SUP : 4  #CODELEN : 6.159871336778389\n",
       "{2, 11, 13}  #USG : 2   #SUP : 2  #CODELEN : 7.159871336778389\n",
       "{6}  #USG : 25   #SUP : 67  #CODELEN : 3.5160151470036647\n",
       "{11}  #USG : 0   #SUP : 55  #CODELEN : 0\n",
       "{1}  #USG : 0   #SUP : 52  #CODELEN : 0\n",
       "{7}  #USG : 6   #SUP : 52  #CODELEN : 5.574908836057233\n",
       "{2}  #USG : 0   #SUP : 50  #CODELEN : 0\n",
       "{8}  #USG : 0   #SUP : 50  #CODELEN : 0\n",
       "{9}  #USG : 0   #SUP : 50  #CODELEN : 0\n",
       "{10}  #USG : 0   #SUP : 50  #CODELEN : 0\n",
       "{12}  #USG : 0   #SUP : 50  #CODELEN : 0\n",
       "{13}  #USG : 0   #SUP : 48  #CODELEN : 0\n",
       "{3}  #USG : 0   #SUP : 45  #CODELEN : 0\n",
       "{4}  #USG : 4   #SUP : 43  #CODELEN : 6.159871336778389\n",
       "{15}  #USG : 33   #SUP : 33  #CODELEN : 3.115477217419936\n",
       "{14}  #USG : 7   #SUP : 28  #CODELEN : 5.352516414720785\n",
       "{5}  #USG : 26   #SUP : 26  #CODELEN : 3.4594316186372973\n",
       "{17}  #USG : 9   #SUP : 25  #CODELEN : 4.989946335336077\n",
       "{18}  #USG : 14   #SUP : 14  #CODELEN : 4.352516414720785\n",
       "{16}  #USG : 10   #SUP : 10  #CODELEN : 4.837943241891027\n",
       "{19}  #USG : 2   #SUP : 2  #CODELEN : 7.159871336778389"
      ]
     },
     "execution_count": 3,
     "metadata": {},
     "output_type": "execute_result"
    }
   ],
   "source": [
    "slim(\"iris\",100)"
   ]
  },
  {
   "cell_type": "code",
   "execution_count": null,
   "metadata": {},
   "outputs": [],
   "source": []
  }
 ],
 "metadata": {
  "kernelspec": {
   "display_name": "Python 3",
   "language": "python",
   "name": "python3"
  },
  "language_info": {
   "codemirror_mode": {
    "name": "ipython",
    "version": 3
   },
   "file_extension": ".py",
   "mimetype": "text/x-python",
   "name": "python",
   "nbconvert_exporter": "python",
   "pygments_lexer": "ipython3",
   "version": "3.7.1"
  }
 },
 "nbformat": 4,
 "nbformat_minor": 2
}
